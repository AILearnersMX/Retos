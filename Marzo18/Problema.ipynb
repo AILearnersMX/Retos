{
 "cells": [
  {
   "cell_type": "markdown",
   "metadata": {},
   "source": [
    "# Clasificación de Género a partir de Líricas\n",
    "\n",
    "En este cuaderno, el reto es clasificar el género de las canciones a partir de sus letras, año y nombre. Esta información la puedes conseguir a partir de un dataset público de líricas. El archivo con la información está en un zip anexado.\n",
    "\n",
    "Este cuaderno de Jupyter hace la configuración básica del problema. Tú puedes utilizar las librerías que quieras y herramientas que consideres necesarias. Puedes utilizar Python 2 y Python 3. \n",
    "\n",
    "En la siguiente celda, para cargar la información, importamos [Pandas](https://pandas.pydata.org/)."
   ]
  },
  {
   "cell_type": "code",
   "execution_count": 32,
   "metadata": {
    "collapsed": true
   },
   "outputs": [],
   "source": [
    "import pandas as pd\n",
    "import random"
   ]
  },
  {
   "cell_type": "markdown",
   "metadata": {},
   "source": [
    "En el archivo lyrics.csv hay una columna con el nombre del artiste. No queremos tener este variable porque sino se facilita mucho la predicción. Por lo tanto, en el dataset tenemos:\n",
    "* **song**: El nombre de la canción\n",
    "* **year**: Año en el que se publicó la canción\n",
    "* **genre**: Género de la canción (Pop, Country, etc)\n",
    "* **lyrics**: La letra de la canción"
   ]
  },
  {
   "cell_type": "code",
   "execution_count": 37,
   "metadata": {
    "collapsed": false
   },
   "outputs": [
    {
     "data": {
      "text/html": [
       "<div>\n",
       "<table border=\"1\" class=\"dataframe\">\n",
       "  <thead>\n",
       "    <tr style=\"text-align: right;\">\n",
       "      <th></th>\n",
       "      <th>song</th>\n",
       "      <th>year</th>\n",
       "      <th>genre</th>\n",
       "      <th>lyrics</th>\n",
       "    </tr>\n",
       "  </thead>\n",
       "  <tbody>\n",
       "    <tr>\n",
       "      <th>14110</th>\n",
       "      <td>the-impossible-dream-the-quest</td>\n",
       "      <td>1990</td>\n",
       "      <td>Pop</td>\n",
       "      <td>To dream the impossible dream\\nTo fight the un...</td>\n",
       "    </tr>\n",
       "    <tr>\n",
       "      <th>203406</th>\n",
       "      <td>under-my-star</td>\n",
       "      <td>2008</td>\n",
       "      <td>Electronic</td>\n",
       "      <td>NaN</td>\n",
       "    </tr>\n",
       "    <tr>\n",
       "      <th>280602</th>\n",
       "      <td>sun-moon-acoustic</td>\n",
       "      <td>2016</td>\n",
       "      <td>Electronic</td>\n",
       "      <td>It's raining, it's pouring\\nA black sky is fal...</td>\n",
       "    </tr>\n",
       "    <tr>\n",
       "      <th>47989</th>\n",
       "      <td>colors</td>\n",
       "      <td>2008</td>\n",
       "      <td>Pop</td>\n",
       "      <td>Sitting on the green green grass\\nI know the s...</td>\n",
       "    </tr>\n",
       "    <tr>\n",
       "      <th>309543</th>\n",
       "      <td>myoskin-tytto-iloinen</td>\n",
       "      <td>1970</td>\n",
       "      <td>Rock</td>\n",
       "      <td>NaN</td>\n",
       "    </tr>\n",
       "  </tbody>\n",
       "</table>\n",
       "</div>"
      ],
      "text/plain": [
       "                                  song  year       genre  \\\n",
       "14110   the-impossible-dream-the-quest  1990         Pop   \n",
       "203406                   under-my-star  2008  Electronic   \n",
       "280602               sun-moon-acoustic  2016  Electronic   \n",
       "47989                           colors  2008         Pop   \n",
       "309543           myoskin-tytto-iloinen  1970        Rock   \n",
       "\n",
       "                                                   lyrics  \n",
       "14110   To dream the impossible dream\\nTo fight the un...  \n",
       "203406                                                NaN  \n",
       "280602  It's raining, it's pouring\\nA black sky is fal...  \n",
       "47989   Sitting on the green green grass\\nI know the s...  \n",
       "309543                                                NaN  "
      ]
     },
     "execution_count": 37,
     "metadata": {},
     "output_type": "execute_result"
    }
   ],
   "source": [
    "# Importamos el dataset y eliminamos la columna de índice y la del artista\n",
    "df = pd.read_csv('lyrics.csv').drop(['artist', 'index'], 1)\n",
    "\n",
    "# Barajamos el dataset\n",
    "df = df.sample(n=362237)\n",
    "\n",
    "# Desplegamos primeros 5 resultados\n",
    "df.head()"
   ]
  },
  {
   "cell_type": "code",
   "execution_count": 38,
   "metadata": {
    "collapsed": false
   },
   "outputs": [
    {
     "name": "stdout",
     "output_type": "stream",
     "text": [
      "Hay un total de 362237 registros en el dataset.\n"
     ]
    }
   ],
   "source": [
    "records = df.shape[0] # Número de filas en la tabla\n",
    "print(\"Hay un total de \" + str(records) + \" registros en el dataset.\")"
   ]
  },
  {
   "cell_type": "markdown",
   "metadata": {},
   "source": [
    "En este problema, queremos predecir un label (género) a partir de features (nombre de la canción, año y letra). Por lo tanto, necesitamos separarlo en X (entradas/features) y y (output/label, variable a predecir)."
   ]
  },
  {
   "cell_type": "code",
   "execution_count": 39,
   "metadata": {
    "collapsed": true
   },
   "outputs": [],
   "source": [
    "X = df.drop('lyrics', 1)\n",
    "y = df['lyrics']"
   ]
  },
  {
   "cell_type": "markdown",
   "metadata": {},
   "source": [
    "Como buena práctica, es importante dividir el dataset en 3: entrenamiento, validación y testing. En este problema tendrás 60% del dataset para entrenar el modelo que tú decidas, 20% del dataset para hacer la validación y 20% para hacer el testing. \n",
    "\n",
    "Si no sabes para qué querrías un validation set además del testing set, te sugerimos revisar [este enlace](https://stats.stackexchange.com/questions/19048/what-is-the-difference-between-test-set-and-validation-set). "
   ]
  },
  {
   "cell_type": "code",
   "execution_count": 40,
   "metadata": {
    "collapsed": false
   },
   "outputs": [
    {
     "name": "stdout",
     "output_type": "stream",
     "text": [
      "Hay un total de 217342 registros de entrenamiento.\n",
      "Hay un total de 72447 registros de validación.\n",
      "Hay un total de 72448 registros de testing.\n"
     ]
    }
   ],
   "source": [
    "X_train = X[:int(records*0.6)]\n",
    "y_train = y[:int(records*0.6)]\n",
    "\n",
    "X_valid = X[int(records*0.6):int(records*0.8)]\n",
    "y_valid = y[int(records*0.6):int(records*0.8)]\n",
    "\n",
    "X_test = X[int(records*0.8):]\n",
    "y_test = y[int(records*0.8):]\n",
    "\n",
    "print(\"Hay un total de \" + str(X_train.shape[0]) + \" registros de entrenamiento.\")\n",
    "print(\"Hay un total de \" + str(X_valid.shape[0]) + \" registros de validación.\")\n",
    "print(\"Hay un total de \" + str(X_test.shape[0]) + \" registros de testing.\")"
   ]
  },
  {
   "cell_type": "code",
   "execution_count": 41,
   "metadata": {
    "collapsed": false
   },
   "outputs": [
    {
     "data": {
      "text/html": [
       "<div>\n",
       "<table border=\"1\" class=\"dataframe\">\n",
       "  <thead>\n",
       "    <tr style=\"text-align: right;\">\n",
       "      <th></th>\n",
       "      <th>song</th>\n",
       "      <th>year</th>\n",
       "      <th>genre</th>\n",
       "    </tr>\n",
       "  </thead>\n",
       "  <tbody>\n",
       "    <tr>\n",
       "      <th>14110</th>\n",
       "      <td>the-impossible-dream-the-quest</td>\n",
       "      <td>1990</td>\n",
       "      <td>Pop</td>\n",
       "    </tr>\n",
       "    <tr>\n",
       "      <th>203406</th>\n",
       "      <td>under-my-star</td>\n",
       "      <td>2008</td>\n",
       "      <td>Electronic</td>\n",
       "    </tr>\n",
       "    <tr>\n",
       "      <th>280602</th>\n",
       "      <td>sun-moon-acoustic</td>\n",
       "      <td>2016</td>\n",
       "      <td>Electronic</td>\n",
       "    </tr>\n",
       "    <tr>\n",
       "      <th>47989</th>\n",
       "      <td>colors</td>\n",
       "      <td>2008</td>\n",
       "      <td>Pop</td>\n",
       "    </tr>\n",
       "    <tr>\n",
       "      <th>309543</th>\n",
       "      <td>myoskin-tytto-iloinen</td>\n",
       "      <td>1970</td>\n",
       "      <td>Rock</td>\n",
       "    </tr>\n",
       "  </tbody>\n",
       "</table>\n",
       "</div>"
      ],
      "text/plain": [
       "                                  song  year       genre\n",
       "14110   the-impossible-dream-the-quest  1990         Pop\n",
       "203406                   under-my-star  2008  Electronic\n",
       "280602               sun-moon-acoustic  2016  Electronic\n",
       "47989                           colors  2008         Pop\n",
       "309543           myoskin-tytto-iloinen  1970        Rock"
      ]
     },
     "execution_count": 41,
     "metadata": {},
     "output_type": "execute_result"
    }
   ],
   "source": [
    "X_train.head()"
   ]
  },
  {
   "cell_type": "code",
   "execution_count": 42,
   "metadata": {
    "collapsed": false
   },
   "outputs": [
    {
     "data": {
      "text/plain": [
       "14110     To dream the impossible dream\\nTo fight the un...\n",
       "203406                                                  NaN\n",
       "280602    It's raining, it's pouring\\nA black sky is fal...\n",
       "47989     Sitting on the green green grass\\nI know the s...\n",
       "309543                                                  NaN\n",
       "Name: lyrics, dtype: object"
      ]
     },
     "execution_count": 42,
     "metadata": {},
     "output_type": "execute_result"
    }
   ],
   "source": [
    "y_train.head()"
   ]
  },
  {
   "cell_type": "markdown",
   "metadata": {},
   "source": [
    "# Solución\n",
    "\n",
    "¡Ahora es tu turno! Este es un problema de clasificación. Hay **muchas** maneras de resolverlo. Puedes utilizar scikit learn para hacerte la vida más fácil, o TensorFlow si quieres utilizar redes neuronales.\n",
    "\n",
    "Es probable que vayas a tener que limpiar un poco la información. Hay registros donde no se sabe cuál es el label. En las letras, hay caractéres como `\\n` que probablemente quieres eliminar. \n",
    "\n",
    "Antes de iniciar a programar un modelo, te sugerimos explorar la información que tienes."
   ]
  },
  {
   "cell_type": "code",
   "execution_count": null,
   "metadata": {
    "collapsed": true
   },
   "outputs": [],
   "source": []
  }
 ],
 "metadata": {
  "kernelspec": {
   "display_name": "Python 3",
   "language": "python",
   "name": "python3"
  },
  "language_info": {
   "codemirror_mode": {
    "name": "ipython",
    "version": 3
   },
   "file_extension": ".py",
   "mimetype": "text/x-python",
   "name": "python",
   "nbconvert_exporter": "python",
   "pygments_lexer": "ipython3",
   "version": "3.6.0"
  }
 },
 "nbformat": 4,
 "nbformat_minor": 2
}
